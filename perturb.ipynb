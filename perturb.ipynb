{
 "cells": [
  {
   "cell_type": "markdown",
   "metadata": {},
   "source": [
    "The first cells are merely used to extract data of our already made dataframes."
   ]
  },
  {
   "cell_type": "code",
   "execution_count": 36,
   "metadata": {},
   "outputs": [],
   "source": [
    "import pickle\n",
    "import pandas as pd \n",
    "\n",
    "with open('dataframe.pkl', 'rb') as f:  # Open in binary mode\n",
    "    df = pickle.load(f)  # Load the DataFrame\n",
    "\n",
    "with open('dataframe_perturbated.pkl', 'rb') as f:  # Open in binary mode\n",
    "    df2 = pickle.load(f)  # Load the DataFrame\n",
    "\n",
    "with open('dataframe_perturbated_maths.pkl', 'rb') as f:  # Open in binary mode\n",
    "    df3 = pickle.load(f)  # Load the DataFrame"
   ]
  },
  {
   "cell_type": "code",
   "execution_count": 42,
   "metadata": {},
   "outputs": [
    {
     "name": "stdout",
     "output_type": "stream",
     "text": [
      "Average length of 'Question' in df: 191.27\n",
      "Average length of 'Question' in df2: 262.58\n",
      "Average length of 'Question' in df2: 262.58\n"
     ]
    }
   ],
   "source": [
    "# Calculate the average length of \"Wuestion\" column in df\n",
    "avg_length_df = df[\"Question\"].astype(str).apply(len).mean()\n",
    "\n",
    "# Calculate the average length of \"Wuestion\" column in df2\n",
    "avg_length_df2 = df2[\"Question\"].astype(str).apply(len).mean()\n",
    "\n",
    "# Calculate the average length of \"Wuestion\" column in df2\n",
    "avg_length_df3 = df3[\"Question\"].astype(str).apply(len).mean()\n",
    "\n",
    "print(f\"Average length of 'Question' in df: {avg_length_df:.2f}\")\n",
    "print(f\"Average length of 'Question' in df2: {avg_length_df2:.2f}\")\n",
    "print(f\"Average length of 'Question' in df2: {avg_length_df3:.2f}\")"
   ]
  },
  {
   "cell_type": "code",
   "execution_count": 53,
   "metadata": {},
   "outputs": [
    {
     "name": "stdout",
     "output_type": "stream",
     "text": [
      "Question\n",
      "It takes 3 weeks to prepare for a camp. Coordination time is one-third of the preparation time plus 10% more of the preparation time. If the planning phase is twice the coordination time but minus 15% of the preparation time, what is the total duration of the event?\n",
      "Question\n",
      "For a camp, preparation takes 3 weeks. coordination is a third of preparation plus 10% of preparation. If planning is double the duration of coordination minus 15% of preparation, how long is the event?\n"
     ]
    }
   ],
   "source": [
    "# Assuming you already have a dataframe 'df'\n",
    "for col in df2.columns:\n",
    "    print(col)        # Prints the column name\n",
    "    print(df2[col][29])    # Prints all values in that column\n",
    "    break\n",
    "\n",
    "# Assuming you already have a dataframe 'df'\n",
    "for col in df.columns:\n",
    "    print(col)        # Prints the column name\n",
    "    print(df[col][135 + 29])    # Prints all values in that column\n",
    "    break"
   ]
  },
  {
   "cell_type": "code",
   "execution_count": null,
   "metadata": {},
   "outputs": [],
   "source": [
    "from openai import OpenAI\n",
    "client = OpenAI(api_key='xxx')"
   ]
  },
  {
   "cell_type": "code",
   "execution_count": 7,
   "metadata": {},
   "outputs": [
    {
     "name": "stdout",
     "output_type": "stream",
     "text": [
      "Batch JSONL file 'batch_requests.jsonl' created with 1000 requests.\n"
     ]
    }
   ],
   "source": [
    "import pickle\n",
    "import json\n",
    "import pandas as pd \n",
    "\n",
    "# Load the DataFrame from the pickle file\n",
    "with open('dataframe.pkl', 'rb') as f:\n",
    "    df = pickle.load(f)  \n",
    "\n",
    "df = df.head(1000)\n",
    "\n",
    "# Define a system message that remains constant across all requests.\n",
    "system_message = \"You are a perturbation assistant. Your task is to rephrase the given input following the provided instructions to generate a perturbed version of the original question.\"\n",
    "\n",
    "# Create the JSONL file for batch processing\n",
    "jsonl_file = \"batch_requests.jsonl\"\n",
    "with open(jsonl_file, \"w\") as f:\n",
    "    for index, row in df.iterrows():\n",
    "        # Create the prompt with the necessary details\n",
    "        prompt_text = f\"\"\"\n",
    "You are provided with a single question from an LLM benchmark. The input consists of the following fields:\n",
    "\n",
    "- **Question:** {row['Question']}\n",
    "- **Option A:** {row['Option A']}\n",
    "- **Option B:** {row['Option B']}\n",
    "- **Option C:** {row['Option C']}\n",
    "- **Answer:** {row['Answer']}\n",
    "- **Category:** {row['Category']}\n",
    "\n",
    "Your task is to generate a *perturbed version* of this input. To do this, follow these steps:\n",
    "\n",
    "1. **Reference Input:** (Optionally, include a reference to the original input as a comment for internal processing, but do not include it in the final output.)\n",
    "2. **Alter the Question:** Change the question using numbers while keeping its wording intact.\n",
    "3. **Correct the Options:** Now correct the correct option accordingly, but ensure the mapping to the correct answer remains unchanged.\n",
    "4. **Preserve Answer & Category:** The correct answer and the category must remain exactly as provided.\n",
    "5. **Output Format:** Present the perturbed version in the same structured format as the input.\n",
    "        \"\"\"\n",
    "        # Build the JSON object for this request following the sample formatting\n",
    "        request_obj = {\n",
    "            \"custom_id\": f\"request-{index}\",\n",
    "            \"method\": \"POST\",\n",
    "            \"url\": \"/v1/chat/completions\",\n",
    "            \"body\": {\n",
    "                \"model\": \"gpt-4-turbo\", # -2024-12-17\n",
    "                \"messages\": [\n",
    "                    {\"role\": \"system\", \"content\": system_message},\n",
    "                    {\"role\": \"user\", \"content\": prompt_text.strip()}\n",
    "                ],\n",
    "                \"max_tokens\": 1000\n",
    "            }\n",
    "        }\n",
    "        # Write each JSON object as a separate line in the JSONL file.\n",
    "        f.write(json.dumps(request_obj) + \"\\n\")\n",
    "\n",
    "print(f\"Batch JSONL file '{jsonl_file}' created with {len(df)} requests.\")"
   ]
  },
  {
   "cell_type": "code",
   "execution_count": 8,
   "metadata": {},
   "outputs": [
    {
     "data": {
      "text/plain": [
       "Batch(id='batch_67eab1cb406c8190b90c1e6d9edd146b', completion_window='24h', created_at=1743434187, endpoint='/v1/chat/completions', input_file_id='file-QnwUqu6SE4YzcVBHRrqLKi', object='batch', status='validating', cancelled_at=None, cancelling_at=None, completed_at=None, error_file_id=None, errors=None, expired_at=None, expires_at=1743520587, failed_at=None, finalizing_at=None, in_progress_at=None, metadata={'description': 'nightly eval job'}, output_file_id=None, request_counts=BatchRequestCounts(completed=0, failed=0, total=0))"
      ]
     },
     "execution_count": 8,
     "metadata": {},
     "output_type": "execute_result"
    }
   ],
   "source": [
    "batch_input_file = client.files.create(\n",
    "    file=open(\"batch_requests.jsonl\", \"rb\"),\n",
    "    purpose=\"batch\"\n",
    ")\n",
    "\n",
    "batch_input_file_id = batch_input_file.id\n",
    "client.batches.create(\n",
    "    input_file_id=batch_input_file_id,\n",
    "    endpoint=\"/v1/chat/completions\",\n",
    "    completion_window=\"24h\",\n",
    "    metadata={\n",
    "        \"description\": \"nightly eval job\"\n",
    "    }\n",
    ")"
   ]
  },
  {
   "cell_type": "code",
   "execution_count": 10,
   "metadata": {},
   "outputs": [
    {
     "name": "stdout",
     "output_type": "stream",
     "text": [
      "Batch(id='batch_67eab1cb406c8190b90c1e6d9edd146b', completion_window='24h', created_at=1743434187, endpoint='/v1/chat/completions', input_file_id='file-QnwUqu6SE4YzcVBHRrqLKi', object='batch', status='completed', cancelled_at=None, cancelling_at=None, completed_at=1743434509, error_file_id=None, errors=None, expired_at=None, expires_at=1743520587, failed_at=None, finalizing_at=1743434437, in_progress_at=1743434188, metadata={'description': 'nightly eval job'}, output_file_id='file-HAgRNmcncDgburP6N8ykxV', request_counts=BatchRequestCounts(completed=1000, failed=0, total=1000))\n"
     ]
    }
   ],
   "source": [
    "batch = client.batches.retrieve(\"batch_67eab1cb406c8190b90c1e6d9edd146b\")\n",
    "print(batch)"
   ]
  },
  {
   "cell_type": "markdown",
   "metadata": {},
   "source": [
    "Save bash output to jsonl file."
   ]
  },
  {
   "cell_type": "code",
   "execution_count": null,
   "metadata": {},
   "outputs": [],
   "source": [
    "file_response = client.files.content(\"file-R3Lbe3GZmvSmPkTJCznjX3\")\n",
    "\n",
    "with open('batch_maths_gpt4.jsonl', 'w') as f:\n",
    "    f.write(file_response.text)"
   ]
  }
 ],
 "metadata": {
  "kernelspec": {
   "display_name": ".venv",
   "language": "python",
   "name": "python3"
  },
  "language_info": {
   "codemirror_mode": {
    "name": "ipython",
    "version": 3
   },
   "file_extension": ".py",
   "mimetype": "text/x-python",
   "name": "python",
   "nbconvert_exporter": "python",
   "pygments_lexer": "ipython3",
   "version": "3.12.3"
  }
 },
 "nbformat": 4,
 "nbformat_minor": 2
}
